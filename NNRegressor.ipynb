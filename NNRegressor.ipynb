{
  "nbformat": 4,
  "nbformat_minor": 0,
  "metadata": {
    "colab": {
      "provenance": []
    },
    "kernelspec": {
      "name": "python3",
      "display_name": "Python 3"
    },
    "language_info": {
      "name": "python"
    }
  },
  "cells": [
    {
      "cell_type": "markdown",
      "source": [
        "# **Regression**"
      ],
      "metadata": {
        "id": "F_wyKadXXspT"
      }
    },
    {
      "cell_type": "code",
      "source": [
        "import tensorflow as tf\n",
        "import numpy as np\n",
        "from sklearn.model_selection import train_test_split\n",
        "import matplotlib.pyplot as plt"
      ],
      "metadata": {
        "id": "V4385sg0XxtZ"
      },
      "execution_count": 72,
      "outputs": []
    },
    {
      "cell_type": "code",
      "source": [
        "print(tf.__version__)"
      ],
      "metadata": {
        "colab": {
          "base_uri": "https://localhost:8080/"
        },
        "id": "0XNGtyRFX6S8",
        "outputId": "19c0e7fc-a03b-474a-86c0-095c80db972b"
      },
      "execution_count": 2,
      "outputs": [
        {
          "output_type": "stream",
          "name": "stdout",
          "text": [
            "2.12.0\n"
          ]
        }
      ]
    },
    {
      "cell_type": "code",
      "source": [
        "x = np.arange(-100, 100, 4)\n",
        "y = x + 5\n",
        "\n",
        "X_train, X_test, y_train, y_test = train_test_split(x, y, test_size = 0.2, random_state = 42)"
      ],
      "metadata": {
        "id": "Y_R7xbejbTlO"
      },
      "execution_count": 76,
      "outputs": []
    },
    {
      "cell_type": "code",
      "source": [
        "plt.scatter(X_train, y_train)"
      ],
      "metadata": {
        "colab": {
          "base_uri": "https://localhost:8080/",
          "height": 447
        },
        "id": "n_3yA8ZDby6i",
        "outputId": "c6d0a2c6-3ddc-4fb9-8375-8961c4ae3450"
      },
      "execution_count": 77,
      "outputs": [
        {
          "output_type": "execute_result",
          "data": {
            "text/plain": [
              "<matplotlib.collections.PathCollection at 0x7b57f67e5930>"
            ]
          },
          "metadata": {},
          "execution_count": 77
        },
        {
          "output_type": "display_data",
          "data": {
            "text/plain": [
              "<Figure size 640x480 with 1 Axes>"
            ],
            "image/png": "[encoded data removed]"
          },
          "metadata": {}
        }
      ]
    },
    {
      "cell_type": "markdown",
      "source": [
        "## Defining the model"
      ],
      "metadata": {
        "id": "cYtD1R7uZGCC"
      }
    },
    {
      "cell_type": "code",
      "source": [
        "model = tf.keras.models.Sequential()"
      ],
      "metadata": {
        "id": "OwOuk0f7ZIz4"
      },
      "execution_count": 64,
      "outputs": []
    },
    {
      "cell_type": "code",
      "source": [
        "model.add(tf.keras.layers.Dense(1, input_shape=(1,)))"
      ],
      "metadata": {
        "id": "6f7oBkRPZmTZ"
      },
      "execution_count": 65,
      "outputs": []
    },
    {
      "cell_type": "code",
      "source": [
        "model.compile(optimizer=tf.keras.optimizers.SGD(), loss=tf.keras.losses.MAE, metrics=[\"mae\"])"
      ],
      "metadata": {
        "id": "4CmH8PAHZrBG"
      },
      "execution_count": 68,
      "outputs": []
    },
    {
      "cell_type": "code",
      "source": [
        "model.summary()"
      ],
      "metadata": {
        "colab": {
          "base_uri": "https://localhost:8080/"
        },
        "id": "wtJrwPfqZaH-",
        "outputId": "caf89607-7071-4786-a8b1-e8a1a6cb49c7"
      },
      "execution_count": 63,
      "outputs": [
        {
          "output_type": "stream",
          "name": "stdout",
          "text": [
            "Model: \"sequential_6\"\n",
            "_________________________________________________________________\n",
            " Layer (type)                Output Shape              Param #   \n",
            "=================================================================\n",
            " dense_8 (Dense)             (None, 1)                 2         \n",
            "                                                                 \n",
            "=================================================================\n",
            "Total params: 2\n",
            "Trainable params: 2\n",
            "Non-trainable params: 0\n",
            "_________________________________________________________________\n"
          ]
        }
      ]
    },
    {
      "cell_type": "code",
      "source": [
        "model.fit(tf.constant(X_train), tf.constant(y_train), epochs=100)"
      ],
      "metadata": {
        "colab": {
          "base_uri": "https://localhost:8080/"
        },
        "id": "2EOPBLcxfNeO",
        "outputId": "99be527f-3212-49ab-9c64-2a668b10bf9a"
      },
      "execution_count": 78,
      "outputs": [
        {
          "output_type": "stream",
          "name": "stdout",
          "text": [
            "Epoch 1/100\n",
            "2/2 [==============================] - 0s 7ms/step - loss: 4.4326 - mae: 4.4326\n",
            "Epoch 2/100\n",
            "2/2 [==============================] - 0s 6ms/step - loss: 9.8525 - mae: 9.8525\n",
            "Epoch 3/100\n",
            "2/2 [==============================] - 0s 9ms/step - loss: 7.5313 - mae: 7.5313\n",
            "Epoch 4/100\n",
            "2/2 [==============================] - 0s 7ms/step - loss: 12.4921 - mae: 12.4921\n",
            "Epoch 5/100\n",
            "2/2 [==============================] - 0s 6ms/step - loss: 13.4696 - mae: 13.4696\n",
            "Epoch 6/100\n",
            "2/2 [==============================] - 0s 7ms/step - loss: 13.2251 - mae: 13.2251\n",
            "Epoch 7/100\n",
            "2/2 [==============================] - 0s 5ms/step - loss: 21.3916 - mae: 21.3916\n",
            "Epoch 8/100\n",
            "2/2 [==============================] - 0s 6ms/step - loss: 12.9895 - mae: 12.9895\n",
            "Epoch 9/100\n",
            "2/2 [==============================] - 0s 7ms/step - loss: 15.7575 - mae: 15.7575\n",
            "Epoch 10/100\n",
            "2/2 [==============================] - 0s 6ms/step - loss: 12.3440 - mae: 12.3440\n",
            "Epoch 11/100\n",
            "2/2 [==============================] - 0s 10ms/step - loss: 20.3316 - mae: 20.3316\n",
            "Epoch 12/100\n",
            "2/2 [==============================] - 0s 7ms/step - loss: 17.5151 - mae: 17.5151\n",
            "Epoch 13/100\n",
            "2/2 [==============================] - 0s 6ms/step - loss: 17.4974 - mae: 17.4974\n",
            "Epoch 14/100\n",
            "2/2 [==============================] - 0s 8ms/step - loss: 10.6539 - mae: 10.6539\n",
            "Epoch 15/100\n",
            "2/2 [==============================] - 0s 7ms/step - loss: 4.7396 - mae: 4.7396\n",
            "Epoch 16/100\n",
            "2/2 [==============================] - 0s 7ms/step - loss: 25.7646 - mae: 25.7646\n",
            "Epoch 17/100\n",
            "2/2 [==============================] - 0s 7ms/step - loss: 15.1971 - mae: 15.1971\n",
            "Epoch 18/100\n",
            "2/2 [==============================] - 0s 7ms/step - loss: 19.4779 - mae: 19.4779\n",
            "Epoch 19/100\n",
            "2/2 [==============================] - 0s 7ms/step - loss: 14.6683 - mae: 14.6683\n",
            "Epoch 20/100\n",
            "2/2 [==============================] - 0s 7ms/step - loss: 18.5286 - mae: 18.5286\n",
            "Epoch 21/100\n",
            "2/2 [==============================] - 0s 6ms/step - loss: 14.4006 - mae: 14.4006\n",
            "Epoch 22/100\n",
            "2/2 [==============================] - 0s 7ms/step - loss: 14.9499 - mae: 14.9499\n",
            "Epoch 23/100\n",
            "2/2 [==============================] - 0s 7ms/step - loss: 11.4946 - mae: 11.4946\n",
            "Epoch 24/100\n",
            "2/2 [==============================] - 0s 7ms/step - loss: 12.1682 - mae: 12.1682\n",
            "Epoch 25/100\n",
            "2/2 [==============================] - 0s 7ms/step - loss: 13.0877 - mae: 13.0877\n",
            "Epoch 26/100\n",
            "2/2 [==============================] - 0s 7ms/step - loss: 16.3668 - mae: 16.3668\n",
            "Epoch 27/100\n",
            "2/2 [==============================] - 0s 9ms/step - loss: 16.2659 - mae: 16.2659\n",
            "Epoch 28/100\n",
            "2/2 [==============================] - 0s 7ms/step - loss: 14.3595 - mae: 14.3595\n",
            "Epoch 29/100\n",
            "2/2 [==============================] - 0s 8ms/step - loss: 11.1958 - mae: 11.1958\n",
            "Epoch 30/100\n",
            "2/2 [==============================] - 0s 9ms/step - loss: 12.4529 - mae: 12.4529\n",
            "Epoch 31/100\n",
            "2/2 [==============================] - 0s 7ms/step - loss: 16.4028 - mae: 16.4028\n",
            "Epoch 32/100\n",
            "2/2 [==============================] - 0s 8ms/step - loss: 15.9632 - mae: 15.9632\n",
            "Epoch 33/100\n",
            "2/2 [==============================] - 0s 7ms/step - loss: 10.5713 - mae: 10.5713\n",
            "Epoch 34/100\n",
            "2/2 [==============================] - 0s 6ms/step - loss: 20.2700 - mae: 20.2700\n",
            "Epoch 35/100\n",
            "2/2 [==============================] - 0s 7ms/step - loss: 10.5721 - mae: 10.5721\n",
            "Epoch 36/100\n",
            "2/2 [==============================] - 0s 6ms/step - loss: 11.0068 - mae: 11.0068\n",
            "Epoch 37/100\n",
            "2/2 [==============================] - 0s 7ms/step - loss: 8.0351 - mae: 8.0351\n",
            "Epoch 38/100\n",
            "2/2 [==============================] - 0s 7ms/step - loss: 17.8665 - mae: 17.8665\n",
            "Epoch 39/100\n",
            "2/2 [==============================] - 0s 7ms/step - loss: 14.3139 - mae: 14.3139\n",
            "Epoch 40/100\n",
            "2/2 [==============================] - 0s 9ms/step - loss: 13.2537 - mae: 13.2537\n",
            "Epoch 41/100\n",
            "2/2 [==============================] - 0s 7ms/step - loss: 12.2279 - mae: 12.2279\n",
            "Epoch 42/100\n",
            "2/2 [==============================] - 0s 7ms/step - loss: 14.5582 - mae: 14.5582\n",
            "Epoch 43/100\n",
            "2/2 [==============================] - 0s 7ms/step - loss: 6.9468 - mae: 6.9468\n",
            "Epoch 44/100\n",
            "2/2 [==============================] - 0s 7ms/step - loss: 4.3709 - mae: 4.3709\n",
            "Epoch 45/100\n",
            "2/2 [==============================] - 0s 7ms/step - loss: 9.6544 - mae: 9.6544\n",
            "Epoch 46/100\n",
            "2/2 [==============================] - 0s 7ms/step - loss: 9.8783 - mae: 9.8783\n",
            "Epoch 47/100\n",
            "2/2 [==============================] - 0s 7ms/step - loss: 9.3127 - mae: 9.3127\n",
            "Epoch 48/100\n",
            "2/2 [==============================] - 0s 7ms/step - loss: 6.5781 - mae: 6.5781\n",
            "Epoch 49/100\n",
            "2/2 [==============================] - 0s 7ms/step - loss: 4.1772 - mae: 4.1772\n",
            "Epoch 50/100\n",
            "2/2 [==============================] - 0s 7ms/step - loss: 11.3908 - mae: 11.3908\n",
            "Epoch 51/100\n",
            "2/2 [==============================] - 0s 7ms/step - loss: 9.0429 - mae: 9.0429\n",
            "Epoch 52/100\n",
            "2/2 [==============================] - 0s 7ms/step - loss: 13.8473 - mae: 13.8473\n",
            "Epoch 53/100\n",
            "2/2 [==============================] - 0s 7ms/step - loss: 15.5647 - mae: 15.5647\n",
            "Epoch 54/100\n",
            "2/2 [==============================] - 0s 16ms/step - loss: 20.0144 - mae: 20.0144\n",
            "Epoch 55/100\n",
            "2/2 [==============================] - 0s 8ms/step - loss: 15.1688 - mae: 15.1688\n",
            "Epoch 56/100\n",
            "2/2 [==============================] - 0s 8ms/step - loss: 18.3386 - mae: 18.3386\n",
            "Epoch 57/100\n",
            "2/2 [==============================] - 0s 7ms/step - loss: 16.1269 - mae: 16.1269\n",
            "Epoch 58/100\n",
            "2/2 [==============================] - 0s 7ms/step - loss: 14.8276 - mae: 14.8276\n",
            "Epoch 59/100\n",
            "2/2 [==============================] - 0s 6ms/step - loss: 12.9975 - mae: 12.9975\n",
            "Epoch 60/100\n",
            "2/2 [==============================] - 0s 7ms/step - loss: 12.9433 - mae: 12.9433\n",
            "Epoch 61/100\n",
            "2/2 [==============================] - 0s 8ms/step - loss: 10.4410 - mae: 10.4410\n",
            "Epoch 62/100\n",
            "2/2 [==============================] - 0s 7ms/step - loss: 12.3370 - mae: 12.3370\n",
            "Epoch 63/100\n",
            "2/2 [==============================] - 0s 7ms/step - loss: 17.4254 - mae: 17.4254\n",
            "Epoch 64/100\n",
            "2/2 [==============================] - 0s 8ms/step - loss: 13.9431 - mae: 13.9431\n",
            "Epoch 65/100\n",
            "2/2 [==============================] - 0s 7ms/step - loss: 22.8032 - mae: 22.8032\n",
            "Epoch 66/100\n",
            "2/2 [==============================] - 0s 7ms/step - loss: 11.6911 - mae: 11.6911\n",
            "Epoch 67/100\n",
            "2/2 [==============================] - 0s 7ms/step - loss: 12.5457 - mae: 12.5457\n",
            "Epoch 68/100\n",
            "2/2 [==============================] - 0s 7ms/step - loss: 7.8722 - mae: 7.8722\n",
            "Epoch 69/100\n",
            "2/2 [==============================] - 0s 7ms/step - loss: 11.1864 - mae: 11.1864\n",
            "Epoch 70/100\n",
            "2/2 [==============================] - 0s 7ms/step - loss: 14.0814 - mae: 14.0814\n",
            "Epoch 71/100\n",
            "2/2 [==============================] - 0s 7ms/step - loss: 16.3068 - mae: 16.3068\n",
            "Epoch 72/100\n",
            "2/2 [==============================] - 0s 7ms/step - loss: 18.0780 - mae: 18.0780\n",
            "Epoch 73/100\n",
            "2/2 [==============================] - 0s 6ms/step - loss: 16.6512 - mae: 16.6512\n",
            "Epoch 74/100\n",
            "2/2 [==============================] - 0s 7ms/step - loss: 25.0709 - mae: 25.0709\n",
            "Epoch 75/100\n",
            "2/2 [==============================] - 0s 7ms/step - loss: 5.5087 - mae: 5.5087\n",
            "Epoch 76/100\n",
            "2/2 [==============================] - 0s 6ms/step - loss: 24.0392 - mae: 24.0392\n",
            "Epoch 77/100\n",
            "2/2 [==============================] - 0s 7ms/step - loss: 10.4316 - mae: 10.4316\n",
            "Epoch 78/100\n",
            "2/2 [==============================] - 0s 7ms/step - loss: 13.3504 - mae: 13.3504\n",
            "Epoch 79/100\n",
            "2/2 [==============================] - 0s 7ms/step - loss: 25.4391 - mae: 25.4391\n",
            "Epoch 80/100\n",
            "2/2 [==============================] - 0s 9ms/step - loss: 22.3458 - mae: 22.3458\n",
            "Epoch 81/100\n",
            "2/2 [==============================] - 0s 7ms/step - loss: 7.0869 - mae: 7.0869\n",
            "Epoch 82/100\n",
            "2/2 [==============================] - 0s 9ms/step - loss: 12.8726 - mae: 12.8726\n",
            "Epoch 83/100\n",
            "2/2 [==============================] - 0s 7ms/step - loss: 5.7352 - mae: 5.7352\n",
            "Epoch 84/100\n",
            "2/2 [==============================] - 0s 8ms/step - loss: 8.3246 - mae: 8.3246\n",
            "Epoch 85/100\n",
            "2/2 [==============================] - 0s 7ms/step - loss: 12.8377 - mae: 12.8377\n",
            "Epoch 86/100\n",
            "2/2 [==============================] - 0s 7ms/step - loss: 14.3368 - mae: 14.3368\n",
            "Epoch 87/100\n",
            "2/2 [==============================] - 0s 7ms/step - loss: 13.7273 - mae: 13.7273\n",
            "Epoch 88/100\n",
            "2/2 [==============================] - 0s 7ms/step - loss: 23.2989 - mae: 23.2989\n",
            "Epoch 89/100\n",
            "2/2 [==============================] - 0s 8ms/step - loss: 7.3280 - mae: 7.3280\n",
            "Epoch 90/100\n",
            "2/2 [==============================] - 0s 9ms/step - loss: 3.8839 - mae: 3.8839\n",
            "Epoch 91/100\n",
            "2/2 [==============================] - 0s 10ms/step - loss: 14.7372 - mae: 14.7372\n",
            "Epoch 92/100\n",
            "2/2 [==============================] - 0s 8ms/step - loss: 10.4547 - mae: 10.4547\n",
            "Epoch 93/100\n",
            "2/2 [==============================] - 0s 7ms/step - loss: 15.4873 - mae: 15.4873\n",
            "Epoch 94/100\n",
            "2/2 [==============================] - 0s 6ms/step - loss: 15.2107 - mae: 15.2107\n",
            "Epoch 95/100\n",
            "2/2 [==============================] - 0s 9ms/step - loss: 17.5800 - mae: 17.5800\n",
            "Epoch 96/100\n",
            "2/2 [==============================] - 0s 9ms/step - loss: 13.9081 - mae: 13.9081\n",
            "Epoch 97/100\n",
            "2/2 [==============================] - 0s 7ms/step - loss: 3.6664 - mae: 3.6664\n",
            "Epoch 98/100\n",
            "2/2 [==============================] - 0s 7ms/step - loss: 17.0879 - mae: 17.0879\n",
            "Epoch 99/100\n",
            "2/2 [==============================] - 0s 7ms/step - loss: 20.3013 - mae: 20.3013\n",
            "Epoch 100/100\n",
            "2/2 [==============================] - 0s 7ms/step - loss: 13.1167 - mae: 13.1167\n"
          ]
        },
        {
          "output_type": "execute_result",
          "data": {
            "text/plain": [
              "<keras.callbacks.History at 0x7b57f6795270>"
            ]
          },
          "metadata": {},
          "execution_count": 78
        }
      ]
    },
    {
      "cell_type": "code",
      "source": [
        "y_pred = model.predict(tf.constant(y_test))"
      ],
      "metadata": {
        "colab": {
          "base_uri": "https://localhost:8080/"
        },
        "id": "ehpLzTwCeUeh",
        "outputId": "3ce367b7-c7d0-448b-cbbb-9a06193e1a35"
      },
      "execution_count": 79,
      "outputs": [
        {
          "output_type": "stream",
          "name": "stdout",
          "text": [
            "1/1 [==============================] - 0s 22ms/step\n"
          ]
        }
      ]
    },
    {
      "cell_type": "code",
      "source": [
        "plt.figure(figsize=(10,7))\n",
        "plt.scatter(X_test, y_test, c='b')\n",
        "plt.scatter(X_test, y_pred, c=\"r\")\n",
        "plt.show()"
      ],
      "metadata": {
        "colab": {
          "base_uri": "https://localhost:8080/",
          "height": 599
        },
        "id": "-xYrafjneXWY",
        "outputId": "f7364784-e302-40c1-9565-192125a45624"
      },
      "execution_count": 80,
      "outputs": [
        {
          "output_type": "display_data",
          "data": {
            "text/plain": [
              "<Figure size 1000x700 with 1 Axes>"
            ],
            "image/png": "[encoded data removed]"
          },
          "metadata": {}
        }
      ]
    }
  ]
}